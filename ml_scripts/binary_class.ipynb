{
 "cells": [
  {
   "cell_type": "markdown",
   "metadata": {},
   "source": [
    "Решение простой задачи бинарной классификации. Образ классифицируется неверно, если знак отступа (скалярное произведение вектора весов на вектор признаков, умноженное на целевое значение) принимает отрицательное значение.\n",
    "$$ Вход: выборка X^l, шаг обучение \\eta, максимальное число итераций N $$\n",
    "$$Выход: вектор весов \\omega = [\\omega_1, \\omega_2]^T$$\n",
    "1) Инициализация $$ \\omega = [0, -1]^T$$\n",
    "2) Повторять N раз:\n",
    "Если для отобранной пары x_i y_i произведена неверная классификация, то корректируем вес\n",
    "$$M_i = sign(<\\omega,x_i>)\\bullet y_i < 0$$\n",
    "$$\\omega_1 = \\omega_1 + \\eta\\bullet y_i$$\n",
    "3) Показатель качества:\n",
    "$$ Q(a, X^l) = [ \\sum_{i=1}^{l} M_i <0] $$\n",
    "4) Если показатель качества = 0, останавливаем цикл"
   ]
  },
  {
   "cell_type": "code",
   "execution_count": 1,
   "metadata": {},
   "outputs": [],
   "source": [
    "import numpy as np\n",
    "import matplotlib.pyplot as plt"
   ]
  },
  {
   "cell_type": "code",
   "execution_count": 5,
   "metadata": {},
   "outputs": [],
   "source": [
    "x_train = np.array([[10, 50], [20, 30], [25, 30], [20, 60], \\\n",
    "    [15, 70], [40, 40], [30, 45], [20, 45], [40, 30], [7, 35]])\n",
    "y_train = np.array([-1, 1, 1, -1, -1, 1, 1, -1, 1, -1])"
   ]
  },
  {
   "cell_type": "code",
   "execution_count": 10,
   "metadata": {},
   "outputs": [],
   "source": [
    "# Размер обучающей выборки\n",
    "n_train = len(x_train)\n",
    "\n",
    "# Значение вектора w\n",
    "w = [0, -1]\n",
    "\n",
    "# Решающее правило\n",
    "a = lambda x: np.sign(x[0]*w[0] + x[1]*w[1])\n",
    "\n",
    "N = 50 # максимальное число итераций\n",
    "L = 0.1 # шаг изменения веса\n",
    "e = 0.1 # добавка для w0, тобы был зазор между разделяющей линией и граничным образом\n",
    "\n",
    "# Индекс последнего ошибочного наблюдения\n",
    "last_error_index = -1 \n"
   ]
  },
  {
   "cell_type": "code",
   "execution_count": 13,
   "metadata": {},
   "outputs": [],
   "source": [
    "for i in range(N):\n",
    "    for i in range(n_train):\n",
    "        if y_train[i] * a(x_train[i]) < 0:   # если ошибка классификации\n",
    "            w[0] = w[0] + L * y_train[i]     # корректировка веса\n",
    "            last_error_index = i\n",
    "    # показатель качества\n",
    "    Q = sum([1 for i in range(n_train) if y_train[i] * a(x_train[i]) < 0])\n",
    "    if Q == 0:\n",
    "        break  "
   ]
  },
  {
   "cell_type": "code",
   "execution_count": 14,
   "metadata": {},
   "outputs": [],
   "source": [
    "if last_error_index > -1:\n",
    "    w[0] = w[0] + e * y_train[last_error_index]    "
   ]
  },
  {
   "cell_type": "code",
   "execution_count": 15,
   "metadata": {},
   "outputs": [
    {
     "name": "stdout",
     "output_type": "stream",
     "text": [
      "[1.6000000000000003, -1]\n"
     ]
    }
   ],
   "source": [
    "print(w)"
   ]
  },
  {
   "cell_type": "code",
   "execution_count": 16,
   "metadata": {},
   "outputs": [],
   "source": [
    "line_x = list(range(max(x_train[:, 0])))    # формирование графика разделяющей линии\n",
    "line_y = [w[0]*x for x in line_x]"
   ]
  },
  {
   "cell_type": "code",
   "execution_count": 17,
   "metadata": {},
   "outputs": [],
   "source": [
    "x_0 = x_train[y_train == 1]       # формирование точек для 1-го класса\n",
    "x_1 = x_train[y_train == -1]      # формирование точек для 2-го класса"
   ]
  },
  {
   "cell_type": "code",
   "execution_count": 22,
   "metadata": {},
   "outputs": [
    {
     "data": {
      "image/png": "[encoded data removed]",
      "text/plain": [
       "<Figure size 432x288 with 1 Axes>"
      ]
     },
     "metadata": {
      "needs_background": "light"
     },
     "output_type": "display_data"
    }
   ],
   "source": [
    "plt.scatter(x_0[:, 0], x_0[:, 1], color='red')\n",
    "plt.scatter(x_1[:, 0], x_1[:, 1], color='blue')\n",
    "plt.plot(line_x, line_y, color='green')\n",
    "plt.xlim([0, 45])\n",
    "plt.ylim([0, 75])\n",
    "plt.ylabel(\"длина\")\n",
    "plt.xlabel(\"ширина\")\n",
    "plt.grid(True)\n",
    "plt.show()"
   ]
  }
 ],
 "metadata": {
  "kernelspec": {
   "display_name": "Python 3.9.7 ('base')",
   "language": "python",
   "name": "python3"
  },
  "language_info": {
   "codemirror_mode": {
    "name": "ipython",
    "version": 3
   },
   "file_extension": ".py",
   "mimetype": "text/x-python",
   "name": "python",
   "nbconvert_exporter": "python",
   "pygments_lexer": "ipython3",
   "version": "3.9.7"
  },
  "orig_nbformat": 4,
  "vscode": {
   "interpreter": {
    "hash": "3a5340953d497a8691126da234574a0b3ecfa234bd0e9183509cbf00690848ba"
   }
  }
 },
 "nbformat": 4,
 "nbformat_minor": 2
}
