{
 "cells": [
  {
   "cell_type": "code",
   "execution_count": 1,
   "id": "7309232a",
   "metadata": {},
   "outputs": [
    {
     "name": "stdout",
     "output_type": "stream",
     "text": [
      "3\n"
     ]
    }
   ],
   "source": [
    "p = 0\n",
    "n = 0\n",
    "null = 0\n",
    "for i in [-1,2,-55,33,0,0,4]:\n",
    "    if i == 0: null += 1\n",
    "    if i > 0: p += 1\n",
    "    else: n += 1\n",
    "print (p)"
   ]
  },
  {
   "cell_type": "code",
   "execution_count": 2,
   "id": "15faaa12",
   "metadata": {},
   "outputs": [
    {
     "ename": "SyntaxError",
     "evalue": "invalid syntax (4114562937.py, line 3)",
     "output_type": "error",
     "traceback": [
      "\u001b[0;36m  Input \u001b[0;32mIn [2]\u001b[0;36m\u001b[0m\n\u001b[0;31m    print ('pozitive') else ('negative)' else ('0')\u001b[0m\n\u001b[0m                       ^\u001b[0m\n\u001b[0;31mSyntaxError\u001b[0m\u001b[0;31m:\u001b[0m invalid syntax\n"
     ]
    }
   ],
   "source": [
    "for i in [-1,2,-55,33,0,0,4]:\n",
    "    if x > 0: \n",
    "        print ('pozitive') else ('negative)' else ('0')"
   ]
  },
  {
   "cell_type": "code",
   "execution_count": 13,
   "id": "ff036091",
   "metadata": {},
   "outputs": [
    {
     "name": "stdout",
     "output_type": "stream",
     "text": [
      "[1, 4, 9, 16, 25, 36, 49, 64, 81, 100]\n"
     ]
    }
   ],
   "source": [
    "print ([x ** 2 for x in range (1, 11)]) if x % 2 == 0"
   ]
  },
  {
   "cell_type": "code",
   "execution_count": 1,
   "id": "0ba660ca",
   "metadata": {},
   "outputs": [],
   "source": [
    "def myrange(a,b):\n",
    "    res = []\n",
    "    s = a\n",
    "    while s!= b:\n",
    "        res.append(s)\n",
    "        s += 1\n",
    "    return res"
   ]
  },
  {
   "cell_type": "code",
   "execution_count": 2,
   "id": "f6cfbafc",
   "metadata": {},
   "outputs": [
    {
     "name": "stdout",
     "output_type": "stream",
     "text": [
      "[1, 2, 3, 4, 5, 6]\n"
     ]
    }
   ],
   "source": [
    "print (myrange(1,7))"
   ]
  },
  {
   "cell_type": "code",
   "execution_count": null,
   "id": "377843e3",
   "metadata": {},
   "outputs": [],
   "source": []
  },
  {
   "cell_type": "code",
   "execution_count": null,
   "id": "ab0b2498",
   "metadata": {},
   "outputs": [],
   "source": []
  }
 ],
 "metadata": {
  "kernelspec": {
   "display_name": "Python 3.8.9 64-bit",
   "language": "python",
   "name": "python3"
  },
  "language_info": {
   "codemirror_mode": {
    "name": "ipython",
    "version": 3
   },
   "file_extension": ".py",
   "mimetype": "text/x-python",
   "name": "python",
   "nbconvert_exporter": "python",
   "pygments_lexer": "ipython3",
   "version": "3.8.9"
  },
  "vscode": {
   "interpreter": {
    "hash": "31f2aee4e71d21fbe5cf8b01ff0e069b9275f58929596ceb00d14d90e3e16cd6"
   }
  }
 },
 "nbformat": 4,
 "nbformat_minor": 5
}
