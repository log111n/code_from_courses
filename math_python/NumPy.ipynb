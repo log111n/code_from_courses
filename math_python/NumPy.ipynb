{
 "cells": [
  {
   "cell_type": "markdown",
   "id": "14bc4616",
   "metadata": {},
   "source": [
    "## NumPy"
   ]
  },
  {
   "cell_type": "code",
   "execution_count": 1,
   "id": "f00f6197",
   "metadata": {},
   "outputs": [],
   "source": [
    "import numpy as np"
   ]
  },
  {
   "cell_type": "code",
   "execution_count": 8,
   "id": "e8376738",
   "metadata": {},
   "outputs": [],
   "source": [
    "x = [1, 2, 3, 4]\n",
    "y = np.array(x)"
   ]
  },
  {
   "cell_type": "code",
   "execution_count": 15,
   "id": "c6b051aa",
   "metadata": {},
   "outputs": [
    {
     "name": "stdout",
     "output_type": "stream",
     "text": [
      "<class 'list'> [1, 2, 3, 4]\n",
      "<class 'numpy.ndarray'> [1 2 3 4]\n"
     ]
    }
   ],
   "source": [
    "print (type (x), x)\n",
    "print (type (y), y)"
   ]
  },
  {
   "cell_type": "code",
   "execution_count": 19,
   "id": "d36e400b",
   "metadata": {},
   "outputs": [
    {
     "name": "stdout",
     "output_type": "stream",
     "text": [
      "[3 4]\n"
     ]
    }
   ],
   "source": [
    "print (y[[2, 3]])"
   ]
  },
  {
   "cell_type": "code",
   "execution_count": 21,
   "id": "e15637ed",
   "metadata": {},
   "outputs": [
    {
     "name": "stdout",
     "output_type": "stream",
     "text": [
      "[2 3 4]\n"
     ]
    }
   ],
   "source": [
    "print (y[y >= 2])"
   ]
  },
  {
   "cell_type": "markdown",
   "id": "be75e4db",
   "metadata": {},
   "source": [
    "### Умножение массива на число"
   ]
  },
  {
   "cell_type": "code",
   "execution_count": 23,
   "id": "cd1022bf",
   "metadata": {},
   "outputs": [
    {
     "name": "stdout",
     "output_type": "stream",
     "text": [
      "[1, 2, 3, 4, 1, 2, 3, 4, 1, 2, 3, 4, 1, 2, 3, 4, 1, 2, 3, 4]\n"
     ]
    }
   ],
   "source": [
    "print (x * 5)"
   ]
  },
  {
   "cell_type": "code",
   "execution_count": 24,
   "id": "1a0394c9",
   "metadata": {},
   "outputs": [
    {
     "name": "stdout",
     "output_type": "stream",
     "text": [
      "[ 5 10 15 20]\n"
     ]
    }
   ],
   "source": [
    "print (y * 5)"
   ]
  },
  {
   "cell_type": "markdown",
   "id": "02dd333e",
   "metadata": {},
   "source": [
    "### Индексация в массивах"
   ]
  },
  {
   "cell_type": "code",
   "execution_count": 27,
   "id": "4defb098",
   "metadata": {},
   "outputs": [],
   "source": [
    "matrix = [[1,2,3], [4,5,6]]\n",
    "np_array = np.array(matrix)"
   ]
  },
  {
   "cell_type": "code",
   "execution_count": 31,
   "id": "33bff568",
   "metadata": {},
   "outputs": [
    {
     "name": "stdout",
     "output_type": "stream",
     "text": [
      "6\n"
     ]
    }
   ],
   "source": [
    "print (matrix[1][2])"
   ]
  },
  {
   "cell_type": "code",
   "execution_count": 32,
   "id": "23c5c909",
   "metadata": {},
   "outputs": [
    {
     "name": "stdout",
     "output_type": "stream",
     "text": [
      "6\n"
     ]
    }
   ],
   "source": [
    "print (np_array[1,2])"
   ]
  },
  {
   "cell_type": "markdown",
   "id": "71cddd5c",
   "metadata": {},
   "source": [
    "### Генерация случайных чисел"
   ]
  },
  {
   "cell_type": "code",
   "execution_count": 34,
   "id": "7fb5b805",
   "metadata": {},
   "outputs": [
    {
     "name": "stdout",
     "output_type": "stream",
     "text": [
      "[-0.53608581  1.12505576 -1.53226171  0.41569176 -2.78372576]\n"
     ]
    }
   ],
   "source": [
    "print (np.random.randn(5))"
   ]
  },
  {
   "cell_type": "code",
   "execution_count": 35,
   "id": "2fbd80c5",
   "metadata": {},
   "outputs": [
    {
     "name": "stdout",
     "output_type": "stream",
     "text": [
      "[[-0.18227243  0.87846941 -1.02301333 -0.3483501  -0.47797459]\n",
      " [ 1.3880573   1.7036008  -0.72280902  0.01627651  0.13401178]\n",
      " [ 1.21851717  0.59572446  0.21458283 -0.41391292  0.26360156]\n",
      " [ 0.55244189 -1.49431076 -1.05088127 -2.14490309 -0.12942081]]\n"
     ]
    }
   ],
   "source": [
    "print (np.random.randn(4,5))"
   ]
  },
  {
   "cell_type": "markdown",
   "id": "d61bdb6d",
   "metadata": {},
   "source": [
    "## SciPy"
   ]
  },
  {
   "cell_type": "code",
   "execution_count": 49,
   "id": "07c34f3f",
   "metadata": {},
   "outputs": [],
   "source": [
    "from scipy import linalg"
   ]
  },
  {
   "cell_type": "code",
   "execution_count": 50,
   "id": "4b9819d0",
   "metadata": {},
   "outputs": [
    {
     "name": "stdout",
     "output_type": "stream",
     "text": [
      "[ 2. -2.  9.]\n"
     ]
    }
   ],
   "source": [
    "a = np.array([[3,2,0],[1,-1,0],[0,5,1]])\n",
    "b = np.array([2,4,-1])\n",
    "\n",
    "x = linalg.solve(a,b)\n",
    "print (x)"
   ]
  },
  {
   "cell_type": "markdown",
   "id": "1731cd26",
   "metadata": {},
   "source": [
    "### Сингулярное разложение матрицы"
   ]
  },
  {
   "cell_type": "code",
   "execution_count": 53,
   "id": "1434a583",
   "metadata": {},
   "outputs": [
    {
     "name": "stdout",
     "output_type": "stream",
     "text": [
      "(4, 4) (3,) (3, 3)\n"
     ]
    }
   ],
   "source": [
    "x = np.random.randn(4, 3)\n",
    "U, D, V = linalg.svd(x)\n",
    "print (U.shape, D.shape, V.shape)"
   ]
  },
  {
   "cell_type": "markdown",
   "id": "6595d21c",
   "metadata": {},
   "source": [
    "## Matplotlib"
   ]
  },
  {
   "cell_type": "code",
   "execution_count": 54,
   "id": "21fc8051",
   "metadata": {},
   "outputs": [],
   "source": [
    "%matplotlib inline"
   ]
  },
  {
   "cell_type": "code",
   "execution_count": 2,
   "id": "bdc25c19",
   "metadata": {},
   "outputs": [
    {
     "data": {
      "image/png": "[encoded data removed]",
      "text/plain": [
       "<Figure size 432x288 with 1 Axes>"
      ]
     },
     "metadata": {
      "needs_background": "light"
     },
     "output_type": "display_data"
    }
   ],
   "source": [
    "from matplotlib import pylab as plt\n",
    "plt.plot ([1, 2, 3, 4], [1, 4, 9, 16])\n",
    "plt.show()"
   ]
  },
  {
   "cell_type": "code",
   "execution_count": 8,
   "id": "0b192e60",
   "metadata": {},
   "outputs": [
    {
     "data": {
      "image/png": "[encoded data removed]",
      "text/plain": [
       "<Figure size 432x288 with 1 Axes>"
      ]
     },
     "metadata": {
      "needs_background": "light"
     },
     "output_type": "display_data"
    }
   ],
   "source": [
    "plt.plot([100, 140], [140, 100])\n",
    "plt.plot([100,140],[60,100])\n",
    "plt.grid()"
   ]
  },
  {
   "cell_type": "code",
   "execution_count": 57,
   "id": "0c4a7036",
   "metadata": {},
   "outputs": [
    {
     "data": {
      "image/png": "[encoded data removed]",
      "text/plain": [
       "<Figure size 432x288 with 1 Axes>"
      ]
     },
     "metadata": {
      "needs_background": "light"
     },
     "output_type": "display_data"
    }
   ],
   "source": [
    "x = np.arange(-10, 10, 0.1)\n",
    "y = x ** 3\n",
    "plt.plot(x, y)\n",
    "plt.show()"
   ]
  },
  {
   "cell_type": "markdown",
   "id": "df43c910",
   "metadata": {},
   "source": [
    "## Все вместе"
   ]
  },
  {
   "cell_type": "code",
   "execution_count": 64,
   "id": "e9295f15",
   "metadata": {},
   "outputs": [],
   "source": [
    "%matplotlib inline\n",
    "import numpy as np\n",
    "import matplotlib.pyplot as plt\n",
    "from scipy import interpolate"
   ]
  },
  {
   "cell_type": "code",
   "execution_count": 73,
   "id": "99af9597",
   "metadata": {},
   "outputs": [
    {
     "name": "stdout",
     "output_type": "stream",
     "text": [
      "[0 2 4 6 8]\n",
      "[1.         0.51341712 0.26359714 0.13533528 0.06948345]\n"
     ]
    }
   ],
   "source": [
    "x = np.arange(0, 10, 2)\n",
    "y = np.exp(-x/3)\n",
    "\n",
    "print (x[:5])\n",
    "print (y[:5])"
   ]
  },
  {
   "cell_type": "code",
   "execution_count": 74,
   "id": "23a06e3f",
   "metadata": {},
   "outputs": [],
   "source": [
    "f = interpolate.interp1d(x, y, kind='linear')\n",
    "xnew = np.arange(0, 8 , 0.1)\n",
    "ynew = f(xnew)"
   ]
  },
  {
   "cell_type": "code",
   "execution_count": 4,
   "id": "feeb20a9",
   "metadata": {},
   "outputs": [
    {
     "ename": "NameError",
     "evalue": "name 'plt' is not defined",
     "output_type": "error",
     "traceback": [
      "\u001b[0;31m---------------------------------------------------------------------------\u001b[0m",
      "\u001b[0;31mNameError\u001b[0m                                 Traceback (most recent call last)",
      "\u001b[0;32m/var/folders/71/7vhtpz0s4pgdwwjv0y1tycdh0000gn/T/ipykernel_33004/821884520.py\u001b[0m in \u001b[0;36m<module>\u001b[0;34m\u001b[0m\n\u001b[0;32m----> 1\u001b[0;31m \u001b[0mplt\u001b[0m\u001b[0;34m.\u001b[0m\u001b[0mplot\u001b[0m\u001b[0;34m(\u001b[0m\u001b[0mx\u001b[0m\u001b[0;34m,\u001b[0m \u001b[0my\u001b[0m\u001b[0;34m,\u001b[0m \u001b[0;34m'o'\u001b[0m\u001b[0;34m,\u001b[0m \u001b[0mxnew\u001b[0m\u001b[0;34m,\u001b[0m \u001b[0mynew\u001b[0m\u001b[0;34m,\u001b[0m \u001b[0;34m'-'\u001b[0m\u001b[0;34m)\u001b[0m\u001b[0;34m\u001b[0m\u001b[0;34m\u001b[0m\u001b[0m\n\u001b[0m\u001b[1;32m      2\u001b[0m \u001b[0mplt\u001b[0m\u001b[0;34m.\u001b[0m\u001b[0mshow\u001b[0m\u001b[0;34m(\u001b[0m\u001b[0;34m)\u001b[0m\u001b[0;34m\u001b[0m\u001b[0;34m\u001b[0m\u001b[0m\n",
      "\u001b[0;31mNameError\u001b[0m: name 'plt' is not defined"
     ]
    }
   ],
   "source": [
    "plt.plot(x, y, 'o', xnew, ynew, '-')\n",
    "plt.show()"
   ]
  },
  {
   "cell_type": "code",
   "execution_count": 11,
   "id": "4fa5d1d8",
   "metadata": {},
   "outputs": [],
   "source": [
    "\n",
    "e = np.arange(1, 13, 2).reshape((3, 2))"
   ]
  },
  {
   "cell_type": "code",
   "execution_count": 12,
   "id": "4a702cac",
   "metadata": {},
   "outputs": [
    {
     "name": "stdout",
     "output_type": "stream",
     "text": [
      "[[ 1  3]\n",
      " [ 5  7]\n",
      " [ 9 11]]\n"
     ]
    }
   ],
   "source": [
    "print(e)"
   ]
  },
  {
   "cell_type": "code",
   "execution_count": null,
   "id": "fe3c605d",
   "metadata": {},
   "outputs": [],
   "source": []
  }
 ],
 "metadata": {
  "kernelspec": {
   "display_name": "Python 3.8.9 64-bit",
   "language": "python",
   "name": "python3"
  },
  "language_info": {
   "codemirror_mode": {
    "name": "ipython",
    "version": 3
   },
   "file_extension": ".py",
   "mimetype": "text/x-python",
   "name": "python",
   "nbconvert_exporter": "python",
   "pygments_lexer": "ipython3",
   "version": "3.8.9"
  },
  "vscode": {
   "interpreter": {
    "hash": "31f2aee4e71d21fbe5cf8b01ff0e069b9275f58929596ceb00d14d90e3e16cd6"
   }
  }
 },
 "nbformat": 4,
 "nbformat_minor": 5
}
