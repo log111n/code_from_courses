{
 "cells": [
  {
   "cell_type": "markdown",
   "metadata": {},
   "source": [
    "### Методы"
   ]
  },
  {
   "cell_type": "code",
   "execution_count": 10,
   "metadata": {},
   "outputs": [],
   "source": [
    "class Point:\n",
    "    color = 'red'\n",
    "    circle = 2\n",
    "\n",
    "    # self - ссылка на экземпляр класса, позволяет работать с локальными атрибутами конкретного экземпляра\n",
    "    def set_coords(self):\n",
    "        print(\"Вызов метода set_coords\" + str(self))"
   ]
  },
  {
   "cell_type": "code",
   "execution_count": 2,
   "metadata": {},
   "outputs": [
    {
     "data": {
      "text/plain": [
       "<function __main__.Point.set_coords()>"
      ]
     },
     "execution_count": 2,
     "metadata": {},
     "output_type": "execute_result"
    }
   ],
   "source": [
    "Point.set_coords"
   ]
  },
  {
   "cell_type": "code",
   "execution_count": 3,
   "metadata": {},
   "outputs": [
    {
     "name": "stdout",
     "output_type": "stream",
     "text": [
      "Вызов метода set_coords\n"
     ]
    }
   ],
   "source": [
    "Point.set_coords()"
   ]
  },
  {
   "cell_type": "code",
   "execution_count": 11,
   "metadata": {},
   "outputs": [],
   "source": [
    "pt = Point()"
   ]
  },
  {
   "cell_type": "code",
   "execution_count": 12,
   "metadata": {},
   "outputs": [
    {
     "name": "stdout",
     "output_type": "stream",
     "text": [
      "Вызов метода set_coords<__main__.Point object at 0x11078f5e0>\n"
     ]
    }
   ],
   "source": [
    "pt.set_coords()"
   ]
  },
  {
   "cell_type": "code",
   "execution_count": 36,
   "metadata": {},
   "outputs": [],
   "source": [
    "class Point:\n",
    "    color = 'red'\n",
    "    circle = 2\n",
    "    # инициализатор класса\n",
    "    def __init__(self, x=0, y=0):\n",
    "        self.x = x\n",
    "        self.y = y\n",
    "\n",
    "    # финализатор класса\n",
    "    def __del__(self):\n",
    "        print(\"Удаление экземпляра:\" + str(self))\n",
    "        \n",
    "    # self - ссылка на экземпляр класса\n",
    "    def set_coords(self, x, y):\n",
    "        self.x = x\n",
    "        self.y = y\n",
    "\n",
    "    def get_coords(self):\n",
    "        return (self.x, self.y)"
   ]
  },
  {
   "cell_type": "code",
   "execution_count": 27,
   "metadata": {},
   "outputs": [
    {
     "name": "stdout",
     "output_type": "stream",
     "text": [
      "{'x': 1, 'y': 2}\n"
     ]
    }
   ],
   "source": [
    "pt = Point()\n",
    "pt.set_coords(1, 2)\n",
    "print(pt.__dict__)"
   ]
  },
  {
   "cell_type": "code",
   "execution_count": 28,
   "metadata": {},
   "outputs": [
    {
     "name": "stdout",
     "output_type": "stream",
     "text": [
      "{'x': 10, 'y': 20}\n"
     ]
    }
   ],
   "source": [
    "pt2 = Point()\n",
    "pt2.set_coords(10, 20)\n",
    "print(pt2.__dict__)"
   ]
  },
  {
   "cell_type": "code",
   "execution_count": 29,
   "metadata": {},
   "outputs": [
    {
     "data": {
      "text/plain": [
       "(1, 2)"
      ]
     },
     "execution_count": 29,
     "metadata": {},
     "output_type": "execute_result"
    }
   ],
   "source": [
    "pt.get_coords()"
   ]
  },
  {
   "cell_type": "markdown",
   "metadata": {},
   "source": [
    "Методы также являются атрибутами классов"
   ]
  },
  {
   "cell_type": "code",
   "execution_count": 30,
   "metadata": {},
   "outputs": [],
   "source": [
    "f = getattr(pt, 'get_coords')"
   ]
  },
  {
   "cell_type": "code",
   "execution_count": 31,
   "metadata": {},
   "outputs": [
    {
     "data": {
      "text/plain": [
       "(1, 2)"
      ]
     },
     "execution_count": 31,
     "metadata": {},
     "output_type": "execute_result"
    }
   ],
   "source": [
    "f()"
   ]
  },
  {
   "cell_type": "code",
   "execution_count": 34,
   "metadata": {},
   "outputs": [
    {
     "name": "stdout",
     "output_type": "stream",
     "text": [
      "{'x': 0, 'y': 0}\n"
     ]
    }
   ],
   "source": [
    "new_pt = Point()\n",
    "print(new_pt.__dict__)"
   ]
  },
  {
   "cell_type": "markdown",
   "metadata": {
    "id": "skUV6H6yC8ic"
   },
   "source": [
    "- Магический метод _ _ new _ _ вызывается перед созданием класса\n",
    "- Магический метод _ _ init _ _ вызывается сразу после создания объекта класса. "
   ]
  },
  {
   "cell_type": "code",
   "execution_count": null,
   "metadata": {
    "id": "uSnnQ30ABp97"
   },
   "outputs": [],
   "source": [
    "# cls ссылается на класс (Point), а self - на созданный экземпляр\n",
    "class Point:\n",
    "    def __new__(cls, *args, **kwargs):\n",
    "        print(\"Вызов __new__ для\" + str(cls))\n",
    "        return super().__new__(cls)\n",
    "    \n",
    "    def __init__(self, x=0, y=0):\n",
    "        self.x = x\n",
    "        self.y = y"
   ]
  },
  {
   "cell_type": "code",
   "execution_count": null,
   "metadata": {
    "colab": {
     "base_uri": "https://localhost:8080/"
    },
    "id": "8IF8vNb-Ep-i",
    "outputId": "bcb60384-c554-49b9-c3fb-58ccc915c590"
   },
   "outputs": [
    {
     "name": "stdout",
     "output_type": "stream",
     "text": [
      "Вызов __new__ для<class '__main__.Point'>\n",
      "None\n"
     ]
    }
   ],
   "source": [
    "pt = Point(1, 2)\n",
    "print(pt)"
   ]
  },
  {
   "cell_type": "markdown",
   "metadata": {
    "id": "tb5Iy0dNFP1N"
   },
   "source": [
    "Магический метод new запускает создание экземпляра класса и возвращает адрес нового объекта: необходимо из базового класса super() вызвать магический метод new\n"
   ]
  },
  {
   "cell_type": "markdown",
   "metadata": {
    "id": "VvDQWbC1HMXr"
   },
   "source": [
    "Паттерн Singleton. В программе должен существовать только один экземпляр класса."
   ]
  },
  {
   "cell_type": "code",
   "execution_count": null,
   "metadata": {
    "id": "r7a52dG7HlGh"
   },
   "outputs": [],
   "source": [
    "class DataBase:\n",
    "\n",
    "    # новый атрибут, instance - ссылка на экземпляр класса\n",
    "    __instance = None\n",
    "\n",
    "    def __new__(cls, *args, **kwargs):\n",
    "        # проверяем атрибут \n",
    "        if cls.__instance is None:\n",
    "            cls.__instance = super().__new__(cls)\n",
    "        return cls.__instance\n",
    "\n",
    "    def __del__(self):\n",
    "        DataBase.__instance = None\n",
    "\n",
    "    def __init__(self, user, psw, port):\n",
    "        self.user = user\n",
    "        self.psw = psw\n",
    "        self.port = port\n",
    "    \n",
    "    def connect(self):\n",
    "        print(f\"Соединение с БД {self.user}, {self.psw}, {self.port}\")\n",
    "\n",
    "    def read(self):\n",
    "        return \"Данные из БД\"\n",
    "\n",
    "    def close(self):\n",
    "        print(\"Закрытие соединения\") \n",
    "\n",
    "    def write(self, data):\n",
    "        print(f\"Запись в БД {data}\")"
   ]
  },
  {
   "cell_type": "code",
   "execution_count": null,
   "metadata": {
    "id": "bXYk1S-1OEu7"
   },
   "outputs": [],
   "source": [
    "db = DataBase('root', '1234', 80)\n",
    "db2 = DataBase('root2', 'ty6789', 40)"
   ]
  },
  {
   "cell_type": "code",
   "execution_count": null,
   "metadata": {
    "colab": {
     "base_uri": "https://localhost:8080/"
    },
    "id": "K6ho0nMxOeLz",
    "outputId": "77fbd4a2-ef73-46d4-bb62-8e424c734fae"
   },
   "outputs": [
    {
     "name": "stdout",
     "output_type": "stream",
     "text": [
      "140292280680608 140292280680608\n"
     ]
    }
   ],
   "source": [
    "print(id(db), id(db2))"
   ]
  },
  {
   "cell_type": "code",
   "execution_count": null,
   "metadata": {
    "colab": {
     "base_uri": "https://localhost:8080/"
    },
    "id": "k0HZ4fFdOqiR",
    "outputId": "f8b699f6-2135-4f74-e527-a8526631ff7d"
   },
   "outputs": [
    {
     "name": "stdout",
     "output_type": "stream",
     "text": [
      "Соединение с БД root2, ty6789, 40\n",
      "Соединение с БД root2, ty6789, 40\n"
     ]
    }
   ],
   "source": [
    "db.connect()\n",
    "db2.connect()"
   ]
  },
  {
   "cell_type": "markdown",
   "metadata": {
    "id": "qtLKuAjGPTi6"
   },
   "source": [
    "Инициализация происходит дважды и локальные значения изменяются. Для того, чтобы это исправить, необходимо вызвать магический метод _ _ call _ _ "
   ]
  },
  {
   "cell_type": "markdown",
   "metadata": {},
   "source": [
    "### Методы классов и статические методы"
   ]
  },
  {
   "cell_type": "code",
   "execution_count": 1,
   "metadata": {},
   "outputs": [],
   "source": [
    "class Vector:\n",
    "    MIN_COORD = 0\n",
    "    MAX_COORD = 100\n",
    "\n",
    "    @classmethod\n",
    "    def validate(cls,args):\n",
    "        return cls.MIN_COORD <= args <= cls.MAX_COORD\n",
    "\n",
    "    def __init__(self, x, y):\n",
    "        self.x = self.y = 0\n",
    "        if self.validate(x) and self.validate(y):\n",
    "            self.x = x\n",
    "            self.y = y\n",
    "\n",
    "    def get_coord(self):\n",
    "        return self.x, self.y\n",
    "\n",
    "    @staticmethod\n",
    "    def norm2(x, y):\n",
    "        return x*x + y*y\n"
   ]
  },
  {
   "cell_type": "code",
   "execution_count": 3,
   "metadata": {},
   "outputs": [
    {
     "data": {
      "text/plain": [
       "(5, 5)"
      ]
     },
     "execution_count": 3,
     "metadata": {},
     "output_type": "execute_result"
    }
   ],
   "source": [
    "v = Vector(5,5)\n",
    "v.get_coord()"
   ]
  },
  {
   "cell_type": "code",
   "execution_count": 4,
   "metadata": {},
   "outputs": [
    {
     "data": {
      "text/plain": [
       "(5, 5)"
      ]
     },
     "execution_count": 4,
     "metadata": {},
     "output_type": "execute_result"
    }
   ],
   "source": [
    "Vector.get_coord(v)"
   ]
  },
  {
   "cell_type": "markdown",
   "metadata": {},
   "source": [
    "v.get_coord() <=> Vector.get_coord(v)"
   ]
  },
  {
   "cell_type": "markdown",
   "metadata": {},
   "source": [
    "В методах классов используется ссылка на сам класс, в обычных методах - на объект класса, статические методы являются независимыми и не имеют ссылок ни на сам класс, ни на эккземпляр, но при этом логически связаны с самим классом."
   ]
  }
 ],
 "metadata": {
  "kernelspec": {
   "display_name": "Python 3.8.9 64-bit",
   "language": "python",
   "name": "python3"
  },
  "language_info": {
   "codemirror_mode": {
    "name": "ipython",
    "version": 3
   },
   "file_extension": ".py",
   "mimetype": "text/x-python",
   "name": "python",
   "nbconvert_exporter": "python",
   "pygments_lexer": "ipython3",
   "version": "3.8.9"
  },
  "orig_nbformat": 4,
  "vscode": {
   "interpreter": {
    "hash": "31f2aee4e71d21fbe5cf8b01ff0e069b9275f58929596ceb00d14d90e3e16cd6"
   }
  }
 },
 "nbformat": 4,
 "nbformat_minor": 2
}
