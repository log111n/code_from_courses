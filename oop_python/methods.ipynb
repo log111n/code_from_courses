{
 "cells": [
  {
   "cell_type": "markdown",
   "metadata": {},
   "source": [
    "### Методы"
   ]
  },
  {
   "cell_type": "code",
   "execution_count": 10,
   "metadata": {},
   "outputs": [],
   "source": [
    "class Point:\n",
    "    color = 'red'\n",
    "    circle = 2\n",
    "\n",
    "    # self - ссылка на экземпляр класса, позволяет работать с локальными атрибутами конкретного экземпляра\n",
    "    def set_coords(self):\n",
    "        print(\"Вызов метода set_coords\" + str(self))"
   ]
  },
  {
   "cell_type": "code",
   "execution_count": 2,
   "metadata": {},
   "outputs": [
    {
     "data": {
      "text/plain": [
       "<function __main__.Point.set_coords()>"
      ]
     },
     "execution_count": 2,
     "metadata": {},
     "output_type": "execute_result"
    }
   ],
   "source": [
    "Point.set_coords"
   ]
  },
  {
   "cell_type": "code",
   "execution_count": 3,
   "metadata": {},
   "outputs": [
    {
     "name": "stdout",
     "output_type": "stream",
     "text": [
      "Вызов метода set_coords\n"
     ]
    }
   ],
   "source": [
    "Point.set_coords()"
   ]
  },
  {
   "cell_type": "code",
   "execution_count": 11,
   "metadata": {},
   "outputs": [],
   "source": [
    "pt = Point()"
   ]
  },
  {
   "cell_type": "code",
   "execution_count": 12,
   "metadata": {},
   "outputs": [
    {
     "name": "stdout",
     "output_type": "stream",
     "text": [
      "Вызов метода set_coords<__main__.Point object at 0x11078f5e0>\n"
     ]
    }
   ],
   "source": [
    "pt.set_coords()"
   ]
  },
  {
   "cell_type": "code",
   "execution_count": 36,
   "metadata": {},
   "outputs": [],
   "source": [
    "class Point:\n",
    "    color = 'red'\n",
    "    circle = 2\n",
    "    # инициализатор класса\n",
    "    def __init__(self, x=0, y=0):\n",
    "        self.x = x\n",
    "        self.y = y\n",
    "\n",
    "    # финализатор класса\n",
    "    def __del__(self):\n",
    "        print(\"Удаление экземпляра:\" + str(self))\n",
    "        \n",
    "    # self - ссылка на экземпляр класса\n",
    "    def set_coords(self, x, y):\n",
    "        self.x = x\n",
    "        self.y = y\n",
    "\n",
    "    def get_coords(self):\n",
    "        return (self.x, self.y)"
   ]
  },
  {
   "cell_type": "code",
   "execution_count": 27,
   "metadata": {},
   "outputs": [
    {
     "name": "stdout",
     "output_type": "stream",
     "text": [
      "{'x': 1, 'y': 2}\n"
     ]
    }
   ],
   "source": [
    "pt = Point()\n",
    "pt.set_coords(1, 2)\n",
    "print(pt.__dict__)"
   ]
  },
  {
   "cell_type": "code",
   "execution_count": 28,
   "metadata": {},
   "outputs": [
    {
     "name": "stdout",
     "output_type": "stream",
     "text": [
      "{'x': 10, 'y': 20}\n"
     ]
    }
   ],
   "source": [
    "pt2 = Point()\n",
    "pt2.set_coords(10, 20)\n",
    "print(pt2.__dict__)"
   ]
  },
  {
   "cell_type": "code",
   "execution_count": 29,
   "metadata": {},
   "outputs": [
    {
     "data": {
      "text/plain": [
       "(1, 2)"
      ]
     },
     "execution_count": 29,
     "metadata": {},
     "output_type": "execute_result"
    }
   ],
   "source": [
    "pt.get_coords()"
   ]
  },
  {
   "cell_type": "markdown",
   "metadata": {},
   "source": [
    "Методы также являются атрибутами классов"
   ]
  },
  {
   "cell_type": "code",
   "execution_count": 30,
   "metadata": {},
   "outputs": [],
   "source": [
    "f = getattr(pt, 'get_coords')"
   ]
  },
  {
   "cell_type": "code",
   "execution_count": 31,
   "metadata": {},
   "outputs": [
    {
     "data": {
      "text/plain": [
       "(1, 2)"
      ]
     },
     "execution_count": 31,
     "metadata": {},
     "output_type": "execute_result"
    }
   ],
   "source": [
    "f()"
   ]
  },
  {
   "cell_type": "code",
   "execution_count": 34,
   "metadata": {},
   "outputs": [
    {
     "name": "stdout",
     "output_type": "stream",
     "text": [
      "{'x': 0, 'y': 0}\n"
     ]
    }
   ],
   "source": [
    "new_pt = Point()\n",
    "print(new_pt.__dict__)"
   ]
  },
  {
   "cell_type": "markdown",
   "metadata": {
    "id": "skUV6H6yC8ic"
   },
   "source": [
    "- Магический метод _ _ new _ _ вызывается перед созданием класса\n",
    "- Магический метод _ _ init _ _ вызывается сразу после создания объекта класса. "
   ]
  },
  {
   "cell_type": "code",
   "execution_count": null,
   "metadata": {
    "id": "uSnnQ30ABp97"
   },
   "outputs": [],
   "source": [
    "# cls ссылается на класс (Point), а self - на созданный экземпляр\n",
    "class Point:\n",
    "    def __new__(cls, *args, **kwargs):\n",
    "        print(\"Вызов __new__ для\" + str(cls))\n",
    "        return super().__new__(cls)\n",
    "    \n",
    "    def __init__(self, x=0, y=0):\n",
    "        self.x = x\n",
    "        self.y = y"
   ]
  },
  {
   "cell_type": "code",
   "execution_count": null,
   "metadata": {
    "colab": {
     "base_uri": "https://localhost:8080/"
    },
    "id": "8IF8vNb-Ep-i",
    "outputId": "bcb60384-c554-49b9-c3fb-58ccc915c590"
   },
   "outputs": [
    {
     "name": "stdout",
     "output_type": "stream",
     "text": [
      "Вызов __new__ для<class '__main__.Point'>\n",
      "None\n"
     ]
    }
   ],
   "source": [
    "pt = Point(1, 2)\n",
    "print(pt)"
   ]
  },
  {
   "cell_type": "markdown",
   "metadata": {
    "id": "tb5Iy0dNFP1N"
   },
   "source": [
    "Магический метод new запускает создание экземпляра класса и возвращает адрес нового объекта: необходимо из базового класса super() вызвать магический метод new\n"
   ]
  },
  {
   "cell_type": "markdown",
   "metadata": {
    "id": "VvDQWbC1HMXr"
   },
   "source": [
    "Паттерн Singleton. В программе должен существовать только один экземпляр класса."
   ]
  },
  {
   "cell_type": "code",
   "execution_count": null,
   "metadata": {
    "id": "r7a52dG7HlGh"
   },
   "outputs": [],
   "source": [
    "class DataBase:\n",
    "\n",
    "    # новый атрибут, instance - ссылка на экземпляр класса\n",
    "    __instance = None\n",
    "\n",
    "    def __new__(cls, *args, **kwargs):\n",
    "        # проверяем атрибут \n",
    "        if cls.__instance is None:\n",
    "            cls.__instance = super().__new__(cls)\n",
    "        return cls.__instance\n",
    "\n",
    "    def __del__(self):\n",
    "        DataBase.__instance = None\n",
    "\n",
    "    def __init__(self, user, psw, port):\n",
    "        self.user = user\n",
    "        self.psw = psw\n",
    "        self.port = port\n",
    "    \n",
    "    def connect(self):\n",
    "        print(f\"Соединение с БД {self.user}, {self.psw}, {self.port}\")\n",
    "\n",
    "    def read(self):\n",
    "        return \"Данные из БД\"\n",
    "\n",
    "    def close(self):\n",
    "        print(\"Закрытие соединения\") \n",
    "\n",
    "    def write(self, data):\n",
    "        print(f\"Запись в БД {data}\")"
   ]
  },
  {
   "cell_type": "code",
   "execution_count": null,
   "metadata": {
    "id": "bXYk1S-1OEu7"
   },
   "outputs": [],
   "source": [
    "db = DataBase('root', '1234', 80)\n",
    "db2 = DataBase('root2', 'ty6789', 40)"
   ]
  },
  {
   "cell_type": "code",
   "execution_count": null,
   "metadata": {
    "colab": {
     "base_uri": "https://localhost:8080/"
    },
    "id": "K6ho0nMxOeLz",
    "outputId": "77fbd4a2-ef73-46d4-bb62-8e424c734fae"
   },
   "outputs": [
    {
     "name": "stdout",
     "output_type": "stream",
     "text": [
      "140292280680608 140292280680608\n"
     ]
    }
   ],
   "source": [
    "print(id(db), id(db2))"
   ]
  },
  {
   "cell_type": "code",
   "execution_count": null,
   "metadata": {
    "colab": {
     "base_uri": "https://localhost:8080/"
    },
    "id": "k0HZ4fFdOqiR",
    "outputId": "f8b699f6-2135-4f74-e527-a8526631ff7d"
   },
   "outputs": [
    {
     "name": "stdout",
     "output_type": "stream",
     "text": [
      "Соединение с БД root2, ty6789, 40\n",
      "Соединение с БД root2, ty6789, 40\n"
     ]
    }
   ],
   "source": [
    "db.connect()\n",
    "db2.connect()"
   ]
  },
  {
   "cell_type": "markdown",
   "metadata": {
    "id": "qtLKuAjGPTi6"
   },
   "source": [
    "Инициализация происходит дважды и локальные значения изменяются. Для того, чтобы это исправить, необходимо вызвать магический метод _ _ call _ _ "
   ]
  },
  {
   "cell_type": "markdown",
   "metadata": {},
   "source": [
    "### Методы классов и статические методы"
   ]
  },
  {
   "cell_type": "code",
   "execution_count": 1,
   "metadata": {},
   "outputs": [],
   "source": [
    "class Vector:\n",
    "    MIN_COORD = 0\n",
    "    MAX_COORD = 100\n",
    "\n",
    "    @classmethod\n",
    "    def validate(cls,args):\n",
    "        return cls.MIN_COORD <= args <= cls.MAX_COORD\n",
    "\n",
    "    def __init__(self, x, y):\n",
    "        self.x = self.y = 0\n",
    "        if self.validate(x) and self.validate(y):\n",
    "            self.x = x\n",
    "            self.y = y\n",
    "\n",
    "    def get_coord(self):\n",
    "        return self.x, self.y\n",
    "\n",
    "    @staticmethod\n",
    "    def norm2(x, y):\n",
    "        return x*x + y*y\n"
   ]
  },
  {
   "cell_type": "code",
   "execution_count": 3,
   "metadata": {},
   "outputs": [
    {
     "data": {
      "text/plain": [
       "(5, 5)"
      ]
     },
     "execution_count": 3,
     "metadata": {},
     "output_type": "execute_result"
    }
   ],
   "source": [
    "v = Vector(5,5)\n",
    "v.get_coord()"
   ]
  },
  {
   "cell_type": "code",
   "execution_count": 4,
   "metadata": {},
   "outputs": [
    {
     "data": {
      "text/plain": [
       "(5, 5)"
      ]
     },
     "execution_count": 4,
     "metadata": {},
     "output_type": "execute_result"
    }
   ],
   "source": [
    "Vector.get_coord(v)"
   ]
  },
  {
   "cell_type": "markdown",
   "metadata": {},
   "source": [
    "v.get_coord() <=> Vector.get_coord(v)"
   ]
  },
  {
   "cell_type": "markdown",
   "metadata": {},
   "source": [
    "В методах классов используется ссылка на сам класс, в обычных методах - на объект класса, статические методы являются независимыми и не имеют ссылок ни на сам класс, ни на эккземпляр, но при этом логически связаны с самим классом."
   ]
  },
  {
   "cell_type": "markdown",
   "metadata": {},
   "source": [
    "## Механизм инкапсуляции"
   ]
  },
  {
   "cell_type": "code",
   "execution_count": 1,
   "metadata": {},
   "outputs": [],
   "source": [
    "class Point:\n",
    "    def __init__(self, x=0, y=0):\n",
    "        self.x, self.y = x, y"
   ]
  },
  {
   "cell_type": "code",
   "execution_count": 2,
   "metadata": {},
   "outputs": [],
   "source": [
    "pt = Point(1, 2)"
   ]
  },
  {
   "cell_type": "code",
   "execution_count": 5,
   "metadata": {},
   "outputs": [],
   "source": [
    "pt.x = 100\n",
    "pt.y = 200"
   ]
  },
  {
   "cell_type": "code",
   "execution_count": 6,
   "metadata": {},
   "outputs": [
    {
     "name": "stdout",
     "output_type": "stream",
     "text": [
      "100 200\n"
     ]
    }
   ],
   "source": [
    "print(pt.x, pt.y)"
   ]
  },
  {
   "cell_type": "code",
   "execution_count": 3,
   "metadata": {},
   "outputs": [],
   "source": [
    "pt.x = 'coord'"
   ]
  },
  {
   "cell_type": "markdown",
   "metadata": {},
   "source": [
    "Если мы не хотим, чтобы пользователь напрямую имел доступ к локальным свойствам экземпляров класса, то необходимо помечать их закрытыми.\n"
   ]
  },
  {
   "cell_type": "markdown",
   "metadata": {},
   "source": [
    "- attribute (без одного или двух подчёркиваний вначале) - публичное свойство\n",
    "- _ attribute (с одним подчёркиванием) - режим доступа protected (служит для обращения внутри класса и во всех его дочерних классах)\n",
    "- _ _ attribute (с двумя подчёркиваниями) - режим доступа private (служит для обращения только внутри класса)"
   ]
  },
  {
   "cell_type": "markdown",
   "metadata": {},
   "source": [
    "#### Protected режим доступа"
   ]
  },
  {
   "cell_type": "code",
   "execution_count": 4,
   "metadata": {},
   "outputs": [],
   "source": [
    "class Point:\n",
    "    def __init__(self, x=0, y=0):\n",
    "        self._x, self._y = x, y\n",
    "\n",
    "pt = Point(100, 100)"
   ]
  },
  {
   "cell_type": "code",
   "execution_count": 10,
   "metadata": {},
   "outputs": [
    {
     "name": "stdout",
     "output_type": "stream",
     "text": [
      "100 100\n"
     ]
    }
   ],
   "source": [
    "# режим доступа protected лишь сигнал для программиста, что лучше не обращаться к атрибуту напрямую\n",
    "print(pt._x, pt._y)"
   ]
  },
  {
   "cell_type": "markdown",
   "metadata": {},
   "source": [
    "#### Private режим доступа + интерфейсные методы (сеттеры и геттеры)"
   ]
  },
  {
   "cell_type": "code",
   "execution_count": 30,
   "metadata": {},
   "outputs": [],
   "source": [
    "class Point:\n",
    "    def __init__(self, x=0, y=0):\n",
    "        self.__x = self.__y = 0\n",
    "        if self.__check_value(x) and self.__check_value(y):\n",
    "            self.__x, self.__y = x, y\n",
    "\n",
    "     # приватный метод\n",
    "    @classmethod\n",
    "    def __check_value(cls, x):\n",
    "        return type(x) in (int, float)\n",
    "\n",
    "    # сеттер\n",
    "    def set_coord(self, x, y):\n",
    "        if self.__check_value(x) and self.__check_value(y):\n",
    "            self.__x = x\n",
    "            self.__y = y\n",
    "        else:\n",
    "            raise ValueError(\"Координаты должны быть числами\")\n",
    "        \n",
    "    # геттер\n",
    "    def get_coord(self):\n",
    "        return self.__x, self.__y\n",
    "\n",
    "\n",
    "pt = Point(100, 100)"
   ]
  },
  {
   "cell_type": "code",
   "execution_count": 16,
   "metadata": {},
   "outputs": [
    {
     "ename": "AttributeError",
     "evalue": "'Point' object has no attribute '__x'",
     "output_type": "error",
     "traceback": [
      "\u001b[0;31m---------------------------------------------------------------------------\u001b[0m",
      "\u001b[0;31mAttributeError\u001b[0m                            Traceback (most recent call last)",
      "\u001b[1;32m/Users/masha/Documents/git_projects/code_from_courses/oop_python/methods.ipynb Ячейка 44\u001b[0m in \u001b[0;36m<cell line: 2>\u001b[0;34m()\u001b[0m\n\u001b[1;32m      <a href='vscode-notebook-cell:/Users/masha/Documents/git_projects/code_from_courses/oop_python/methods.ipynb#ch0000047?line=0'>1</a>\u001b[0m \u001b[39m# доступ извне не работает\u001b[39;00m\n\u001b[0;32m----> <a href='vscode-notebook-cell:/Users/masha/Documents/git_projects/code_from_courses/oop_python/methods.ipynb#ch0000047?line=1'>2</a>\u001b[0m \u001b[39mprint\u001b[39m(pt\u001b[39m.\u001b[39;49m__x, pt\u001b[39m.\u001b[39m__y)\n",
      "\u001b[0;31mAttributeError\u001b[0m: 'Point' object has no attribute '__x'"
     ]
    }
   ],
   "source": [
    "# доступ извне не работает\n",
    "print(pt.__x, pt.__y)"
   ]
  },
  {
   "cell_type": "code",
   "execution_count": 24,
   "metadata": {},
   "outputs": [],
   "source": [
    "# ошибок нет, так как обращение внутри класса\n",
    "pt.set_coord(10, 20)"
   ]
  },
  {
   "cell_type": "code",
   "execution_count": 28,
   "metadata": {},
   "outputs": [
    {
     "ename": "ValueError",
     "evalue": "Координаты должны быть числами",
     "output_type": "error",
     "traceback": [
      "\u001b[0;31m---------------------------------------------------------------------------\u001b[0m",
      "\u001b[0;31mValueError\u001b[0m                                Traceback (most recent call last)",
      "\u001b[1;32m/Users/masha/Documents/git_projects/code_from_courses/oop_python/methods.ipynb Ячейка 46\u001b[0m in \u001b[0;36m<cell line: 2>\u001b[0;34m()\u001b[0m\n\u001b[1;32m      <a href='vscode-notebook-cell:/Users/masha/Documents/git_projects/code_from_courses/oop_python/methods.ipynb#ch0000054?line=0'>1</a>\u001b[0m \u001b[39m# ошибок нет, так как обращение внутри класса\u001b[39;00m\n\u001b[0;32m----> <a href='vscode-notebook-cell:/Users/masha/Documents/git_projects/code_from_courses/oop_python/methods.ipynb#ch0000054?line=1'>2</a>\u001b[0m pt\u001b[39m.\u001b[39;49mset_coord(\u001b[39m'\u001b[39;49m\u001b[39m10\u001b[39;49m\u001b[39m'\u001b[39;49m, \u001b[39m20\u001b[39;49m)\n",
      "\u001b[1;32m/Users/masha/Documents/git_projects/code_from_courses/oop_python/methods.ipynb Ячейка 46\u001b[0m in \u001b[0;36mPoint.set_coord\u001b[0;34m(self, x, y)\u001b[0m\n\u001b[1;32m      <a href='vscode-notebook-cell:/Users/masha/Documents/git_projects/code_from_courses/oop_python/methods.ipynb#ch0000054?line=8'>9</a>\u001b[0m     \u001b[39mself\u001b[39m\u001b[39m.\u001b[39m__y \u001b[39m=\u001b[39m y\n\u001b[1;32m     <a href='vscode-notebook-cell:/Users/masha/Documents/git_projects/code_from_courses/oop_python/methods.ipynb#ch0000054?line=9'>10</a>\u001b[0m \u001b[39melse\u001b[39;00m:\n\u001b[0;32m---> <a href='vscode-notebook-cell:/Users/masha/Documents/git_projects/code_from_courses/oop_python/methods.ipynb#ch0000054?line=10'>11</a>\u001b[0m     \u001b[39mraise\u001b[39;00m \u001b[39mValueError\u001b[39;00m(\u001b[39m\"\u001b[39m\u001b[39mКоординаты должны быть числами\u001b[39m\u001b[39m\"\u001b[39m)\n",
      "\u001b[0;31mValueError\u001b[0m: Координаты должны быть числами"
     ]
    }
   ],
   "source": [
    "# ошибок нет, так как обращение внутри класса\n",
    "pt.set_coord('10', 20)"
   ]
  },
  {
   "cell_type": "code",
   "execution_count": 22,
   "metadata": {},
   "outputs": [
    {
     "data": {
      "text/plain": [
       "(100, 100)"
      ]
     },
     "execution_count": 22,
     "metadata": {},
     "output_type": "execute_result"
    }
   ],
   "source": [
    "pt.get_coord()"
   ]
  },
  {
   "cell_type": "code",
   "execution_count": 31,
   "metadata": {},
   "outputs": [
    {
     "name": "stdout",
     "output_type": "stream",
     "text": [
      "['_Point__check_value', '_Point__x', '_Point__y', '__class__', '__delattr__', '__dict__', '__dir__', '__doc__', '__eq__', '__format__', '__ge__', '__getattribute__', '__gt__', '__hash__', '__init__', '__init_subclass__', '__le__', '__lt__', '__module__', '__ne__', '__new__', '__reduce__', '__reduce_ex__', '__repr__', '__setattr__', '__sizeof__', '__str__', '__subclasshook__', '__weakref__', 'get_coord', 'set_coord']\n"
     ]
    }
   ],
   "source": [
    "# Проверка доступности методов для экземпляра\n",
    "print(dir(pt))"
   ]
  },
  {
   "cell_type": "code",
   "execution_count": 33,
   "metadata": {},
   "outputs": [
    {
     "name": "stdout",
     "output_type": "stream",
     "text": [
      "100\n"
     ]
    }
   ],
   "source": [
    "# ТАК НЕ ДЕЛАТЬ\n",
    "print(pt._Point__x)"
   ]
  },
  {
   "cell_type": "markdown",
   "metadata": {},
   "source": [
    "#### Модуль accessify"
   ]
  },
  {
   "cell_type": "code",
   "execution_count": 34,
   "metadata": {},
   "outputs": [
    {
     "name": "stdout",
     "output_type": "stream",
     "text": [
      "Defaulting to user installation because normal site-packages is not writeable\n",
      "Collecting accessify\n",
      "  Downloading accessify-0.3.1.tar.gz (20 kB)\n",
      "Building wheels for collected packages: accessify\n",
      "  Building wheel for accessify (setup.py) ... \u001b[?25ldone\n",
      "\u001b[?25h  Created wheel for accessify: filename=accessify-0.3.1-py3-none-any.whl size=26692 sha256=048fbf540d777bf0363c9d11c0c575a95751d27e93961a9a4ec82862542f6533\n",
      "  Stored in directory: /Users/masha/Library/Caches/pip/wheels/b7/29/d2/ab2ba3a524556686dff65bd01bfcaeb389f274eb562ee94568\n",
      "Successfully built accessify\n",
      "Installing collected packages: accessify\n",
      "Successfully installed accessify-0.3.1\n",
      "\u001b[33mWARNING: You are using pip version 20.2.3; however, version 23.0.1 is available.\n",
      "You should consider upgrading via the '/Library/Developer/CommandLineTools/usr/bin/python3 -m pip install --upgrade pip' command.\u001b[0m\n",
      "Note: you may need to restart the kernel to use updated packages.\n"
     ]
    }
   ],
   "source": [
    "#pip install accessify"
   ]
  },
  {
   "cell_type": "code",
   "execution_count": 35,
   "metadata": {},
   "outputs": [],
   "source": [
    "from accessify import private, protected"
   ]
  },
  {
   "cell_type": "code",
   "execution_count": 36,
   "metadata": {},
   "outputs": [],
   "source": [
    "class Point:\n",
    "    def __init__(self, x=0, y=0):\n",
    "        self.__x = self.__y = 0\n",
    "        if self.check_value(x) and self.check_value(y):\n",
    "            self.__x, self.__y = x, y\n",
    "\n",
    "     # приватный метод\n",
    "    @private\n",
    "    @classmethod\n",
    "    def check_value(cls, x):\n",
    "        return type(x) in (int, float)\n",
    "\n",
    "    # сеттер\n",
    "    def set_coord(self, x, y):\n",
    "        if self.check_value(x) and self.check_value(y):\n",
    "            self.__x = x\n",
    "            self.__y = y\n",
    "        else:\n",
    "            raise ValueError(\"Координаты должны быть числами\")\n",
    "        \n",
    "    # геттер\n",
    "    def get_coord(self):\n",
    "        return self.__x, self.__y\n",
    "\n",
    "\n",
    "pt = Point(100, 100)"
   ]
  },
  {
   "cell_type": "code",
   "execution_count": 38,
   "metadata": {},
   "outputs": [
    {
     "ename": "InaccessibleDueToItsProtectionLevelException",
     "evalue": "Point.check_value() is inaccessible due to its protection level",
     "output_type": "error",
     "traceback": [
      "\u001b[0;31m---------------------------------------------------------------------------\u001b[0m",
      "\u001b[0;31mInaccessibleDueToItsProtectionLevelException\u001b[0mTraceback (most recent call last)",
      "\u001b[1;32m/Users/masha/Documents/git_projects/code_from_courses/oop_python/methods.ipynb Ячейка 54\u001b[0m in \u001b[0;36m<cell line: 2>\u001b[0;34m()\u001b[0m\n\u001b[1;32m      <a href='vscode-notebook-cell:/Users/masha/Documents/git_projects/code_from_courses/oop_python/methods.ipynb#ch0000063?line=0'>1</a>\u001b[0m \u001b[39m# пытаемся обратиться к защищённому методу\u001b[39;00m\n\u001b[0;32m----> <a href='vscode-notebook-cell:/Users/masha/Documents/git_projects/code_from_courses/oop_python/methods.ipynb#ch0000063?line=1'>2</a>\u001b[0m pt\u001b[39m.\u001b[39;49mcheck_value(\u001b[39m5\u001b[39;49m)\n",
      "File \u001b[0;32m~/Library/Python/3.8/lib/python/site-packages/accessify/access.py:75\u001b[0m, in \u001b[0;36mprivate.<locals>.private_wrapper\u001b[0;34m(*args, **kwargs)\u001b[0m\n\u001b[1;32m     72\u001b[0m     method_caller_class \u001b[39m=\u001b[39m get_method_class_by_frame(frame\u001b[39m=\u001b[39mmethod_caller_frame)\n\u001b[1;32m     74\u001b[0m     \u001b[39mif\u001b[39;00m instance_class \u001b[39mis\u001b[39;00m \u001b[39mnot\u001b[39;00m method_caller_class:\n\u001b[0;32m---> 75\u001b[0m         \u001b[39mraise\u001b[39;00m InaccessibleDueToItsProtectionLevelException(\n\u001b[1;32m     76\u001b[0m             INACCESSIBLE_DUE_TO_ITS_PROTECTION_LEVEL_EXCEPTION_MESSAGE\u001b[39m.\u001b[39mformat(\n\u001b[1;32m     77\u001b[0m                 class_name\u001b[39m=\u001b[39minstance_class\u001b[39m.\u001b[39m\u001b[39m__name__\u001b[39m, class_method_name\u001b[39m=\u001b[39mmethod\u001b[39m.\u001b[39m\u001b[39m__name__\u001b[39m,\n\u001b[1;32m     78\u001b[0m             ),\n\u001b[1;32m     79\u001b[0m         )\n\u001b[1;32m     81\u001b[0m \u001b[39mif\u001b[39;00m func\u001b[39m.\u001b[39m\u001b[39m__class__\u001b[39m\u001b[39m.\u001b[39m\u001b[39m__name__\u001b[39m \u001b[39m==\u001b[39m ClassMemberTypes\u001b[39m.\u001b[39mCLASS_METHOD:\n\u001b[1;32m     82\u001b[0m     arguments \u001b[39m=\u001b[39m (instance_class, ) \u001b[39m+\u001b[39m \u001b[39mtuple\u001b[39m(arguments_without_instance)\n",
      "\u001b[0;31mInaccessibleDueToItsProtectionLevelException\u001b[0m: Point.check_value() is inaccessible due to its protection level"
     ]
    }
   ],
   "source": [
    "# пытаемся обратиться к защищённому методу\n",
    "pt.check_value(5)"
   ]
  },
  {
   "cell_type": "markdown",
   "metadata": {},
   "source": [
    "Защита с модулем accessify надёжнее использования двойного подчёркивания"
   ]
  },
  {
   "cell_type": "markdown",
   "metadata": {},
   "source": []
  }
 ],
 "metadata": {
  "kernelspec": {
   "display_name": "Python 3.8.9 64-bit",
   "language": "python",
   "name": "python3"
  },
  "language_info": {
   "codemirror_mode": {
    "name": "ipython",
    "version": 3
   },
   "file_extension": ".py",
   "mimetype": "text/x-python",
   "name": "python",
   "nbconvert_exporter": "python",
   "pygments_lexer": "ipython3",
   "version": "3.8.9"
  },
  "orig_nbformat": 4,
  "vscode": {
   "interpreter": {
    "hash": "31f2aee4e71d21fbe5cf8b01ff0e069b9275f58929596ceb00d14d90e3e16cd6"
   }
  }
 },
 "nbformat": 4,
 "nbformat_minor": 2
}
